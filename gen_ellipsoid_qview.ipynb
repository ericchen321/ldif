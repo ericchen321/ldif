{
 "cells": [
  {
   "cell_type": "code",
   "execution_count": 1,
   "metadata": {},
   "outputs": [],
   "source": [
    "from ldif.util import path_util\n",
    "import subprocess as sp"
   ]
  },
  {
   "cell_type": "code",
   "execution_count": 2,
   "metadata": {},
   "outputs": [
    {
     "name": "stdout",
     "output_type": "stream",
     "text": [
      "/home/eric/cpsc533r/project/ldif/ldif/gaps/bin/x86_64/\n"
     ]
    }
   ],
   "source": [
    "print(path_util.gaps_path())"
   ]
  },
  {
   "cell_type": "code",
   "execution_count": 4,
   "metadata": {},
   "outputs": [],
   "source": [
    "# adapted from Decoder(TrainedNetwork).interactive_viewer()\n",
    "def view_ellipsoid(qpath):\n",
    "    init_camera = ('1.0451 1.17901 0.630437 '\n",
    "                 '-0.614259 -0.695319 -0.373119 '\n",
    "                 '-0.547037 0.715996 -0.433705')\n",
    "    cmd = f'{path_util.gaps_path()}/qview {qpath} -camera {init_camera}'\n",
    "    sp.check_output(cmd, shell=True)"
   ]
  },
  {
   "cell_type": "code",
   "execution_count": 8,
   "metadata": {},
   "outputs": [],
   "source": [
    "view_ellipsoid(\"sample_sif_descriptors/sif_1.txt\")"
   ]
  },
  {
   "cell_type": "code",
   "execution_count": null,
   "metadata": {},
   "outputs": [],
   "source": []
  }
 ],
 "metadata": {
  "kernelspec": {
   "display_name": "Python 3",
   "language": "python",
   "name": "python3"
  },
  "language_info": {
   "codemirror_mode": {
    "name": "ipython",
    "version": 3
   },
   "file_extension": ".py",
   "mimetype": "text/x-python",
   "name": "python",
   "nbconvert_exporter": "python",
   "pygments_lexer": "ipython3",
   "version": "3.6.10"
  }
 },
 "nbformat": 4,
 "nbformat_minor": 4
}
